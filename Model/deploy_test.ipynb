{
 "cells": [
  {
   "cell_type": "code",
   "execution_count": 1,
   "id": "57fc77db",
   "metadata": {},
   "outputs": [
    {
     "ename": "ModuleNotFoundError",
     "evalue": "No module named 'tensorflow'",
     "output_type": "error",
     "traceback": [
      "\u001b[0;31m---------------------------------------------------------------------------\u001b[0m",
      "\u001b[0;31mModuleNotFoundError\u001b[0m                       Traceback (most recent call last)",
      "Input \u001b[0;32mIn [1]\u001b[0m, in \u001b[0;36m<cell line: 1>\u001b[0;34m()\u001b[0m\n\u001b[0;32m----> 1\u001b[0m \u001b[38;5;28;01mimport\u001b[39;00m \u001b[38;5;21;01mtensorflow\u001b[39;00m \u001b[38;5;28;01mas\u001b[39;00m \u001b[38;5;21;01mtf\u001b[39;00m\n\u001b[1;32m      2\u001b[0m \u001b[38;5;28;01mfrom\u001b[39;00m \u001b[38;5;21;01mtensorflow\u001b[39;00m\u001b[38;5;21;01m.\u001b[39;00m\u001b[38;5;21;01mkeras\u001b[39;00m \u001b[38;5;28;01mimport\u001b[39;00m callbacks, models, layers, preprocessing \u001b[38;5;28;01mas\u001b[39;00m kprocessing \u001b[38;5;66;03m#(2.6.0)\u001b[39;00m\n\u001b[1;32m      3\u001b[0m \u001b[38;5;28;01mimport\u001b[39;00m \u001b[38;5;21;01mpandas\u001b[39;00m \u001b[38;5;28;01mas\u001b[39;00m \u001b[38;5;21;01mpd\u001b[39;00m\n",
      "\u001b[0;31mModuleNotFoundError\u001b[0m: No module named 'tensorflow'"
     ]
    }
   ],
   "source": [
    "import tensorflow as tf\n",
    "from tensorflow.keras import callbacks, models, layers, preprocessing as kprocessing #(2.6.0)\n",
    "import pandas as pd\n",
    "import json\n",
    "from nltk.corpus import stopwords\n",
    "import regex as re\n",
    "import numpy as np\n",
    "\n",
    "# Open tokenizer for text\n",
    "with open('word_corpus.json') as f: \n",
    "        data = json.load(f) \n",
    "        text_tokenizer = tf.keras.preprocessing.text.tokenizer_from_json(data)\n",
    "\n",
    "# Open tokenizer for summary\n",
    "with open('label_corpus.json') as f: \n",
    "        data = json.load(f) \n",
    "        label_tokenizer = tf.keras.preprocessing.text.tokenizer_from_json(data)\n",
    "\n",
    "# Define special tokens for summary\n",
    "special_tokens = (\"xstartx\", \"xendx\")\n",
    "\n",
    "# Load encoder and decoder models\n",
    "encoder_model = tf.keras.models.load_model('Model/encoder_191223.h5')\n",
    "decoder_model = tf.keras.models.load_model('Model/decoder_191223.h5')"
   ]
  },
  {
   "cell_type": "code",
   "execution_count": null,
   "id": "7fa4f358",
   "metadata": {},
   "outputs": [],
   "source": [
    "# Text input\n",
    "sample = 'string sesuatu'\n",
    "\n",
    "# Data cleansing\n",
    "clean_sample = re.sub(\"[-()\\\"#/@;:<>{}`+=~|.!?,]\", \"\", sample.lower())\n",
    "\n",
    "# Define stopwords\n",
    "stopword = stopwords.words(\"english\")\n",
    "\n",
    "temp=\"\"\n",
    "text=clean_sample.split(\" \")\n",
    "for word in text:\n",
    "  if word not in stopword:\n",
    "    temp = temp+\" \"+word\n",
    "clean_sample = temp\n",
    "input_sample = []\n",
    "input_sample.append(clean_sample.strip())"
   ]
  },
  {
   "cell_type": "code",
   "execution_count": null,
   "id": "aa9c0aa5",
   "metadata": {},
   "outputs": [],
   "source": [
    "input_seq = text_tokenizer.texts_to_sequences(input_sample)\n",
    "\n",
    "# Padding sequence\n",
    "x = tf.keras.utils.pad_sequences(input_seq, maxlen=800, padding='post', truncating=\"post\")\n",
    "\n",
    "# Predict Manual\n",
    "x = x.reshape(1, -1)\n",
    "\n",
    "# encode X\n",
    "encoder_out, state_h, state_c = encoder_model.predict(x, verbose=0)\n",
    "\n",
    "# prepare loop\n",
    "y_inp = np.array([y_tokenizer.word_index[special_tokens[1]]])\n",
    "y_expand = np.expand_dims(y_inp, axis=1)\n",
    "predicted_text = \"\"\n",
    "stop = False\n",
    "\n",
    "while not stop:\n",
    "    # predict dictionary probability distribution\n",
    "    outputs = decoder_model.predict([y_expand, state_h, state_c], verbose=0)\n",
    "    probs, new_state_h, new_state_c = outputs[0], outputs[1], outputs[2]\n",
    "\n",
    "    # get predicted word\n",
    "    voc_idx = np.argmax(probs[0, -1, :], axis=0)\n",
    "    if voc_idx == 0:\n",
    "        break\n",
    "\n",
    "    pred_word = y_tokenizer.index_word[voc_idx]\n",
    "\n",
    "    # check stop\n",
    "    if (pred_word != special_tokens[1]) and (len(predicted_text.split()) < 50):\n",
    "        predicted_text = predicted_text + \" \" + pred_word\n",
    "    else:\n",
    "        stop = True\n",
    "\n",
    "    # next\n",
    "    y_inp = np.array([voc_idx])\n",
    "    y_expand = np.expand_dims(y_inp, axis=1)\n",
    "    state_h, state_c = new_state_h, new_state_c\n",
    "\n",
    "'''\n",
    "    Summary will be stored in the 'predicted_text' variable.\n",
    "'''"
   ]
  }
 ],
 "metadata": {
  "kernelspec": {
   "display_name": "Python 3 (ipykernel)",
   "language": "python",
   "name": "python3"
  },
  "language_info": {
   "codemirror_mode": {
    "name": "ipython",
    "version": 3
   },
   "file_extension": ".py",
   "mimetype": "text/x-python",
   "name": "python",
   "nbconvert_exporter": "python",
   "pygments_lexer": "ipython3",
   "version": "3.8.10"
  }
 },
 "nbformat": 4,
 "nbformat_minor": 5
}
